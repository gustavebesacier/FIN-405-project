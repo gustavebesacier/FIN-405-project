{
 "cells": [
  {
   "cell_type": "code",
   "execution_count": null,
   "metadata": {},
   "outputs": [],
   "source": [
    "%load_ext autoreload\n",
    "%autoreload 2"
   ]
  },
  {
   "cell_type": "code",
   "execution_count": null,
   "metadata": {},
   "outputs": [],
   "source": [
    "from Data_handler import Data\n",
    "\n",
    "import matplotlib.pyplot as plt\n",
    "import numpy as np\n",
    "import pandas as pd\n",
    "import statsmodels.api as sm\n",
    "import os"
   ]
  },
  {
   "cell_type": "markdown",
   "metadata": {},
   "source": [
    "# 2 Loading the data"
   ]
  },
  {
   "cell_type": "code",
   "execution_count": null,
   "metadata": {},
   "outputs": [],
   "source": [
    "# Prepare data\n",
    "Data_instance = Data()               # create instance of the class Data()\n",
    "data = Data_instance.get_data()      # store the data of Data_instance"
   ]
  },
  {
   "cell_type": "code",
   "execution_count": null,
   "metadata": {},
   "outputs": [],
   "source": [
    "display(data)"
   ]
  },
  {
   "cell_type": "markdown",
   "metadata": {},
   "source": [
    "# 3 Betting Against Beta"
   ]
  },
  {
   "cell_type": "markdown",
   "metadata": {},
   "source": [
    "## Question a)"
   ]
  },
  {
   "cell_type": "code",
   "execution_count": null,
   "metadata": {},
   "outputs": [],
   "source": [
    "# Overview of the data\n",
    "display(data.head())"
   ]
  },
  {
   "cell_type": "code",
   "execution_count": null,
   "metadata": {},
   "outputs": [],
   "source": [
    "data = Data_instance.get_rolling_beta().copy().dropna() # Get the rolling betas from the data. This is a method from the class Data, in Data_handler.py\n",
    "display(data)"
   ]
  },
  {
   "cell_type": "code",
   "execution_count": null,
   "metadata": {},
   "outputs": [],
   "source": [
    "data_Qb = data.copy().dropna()\n",
    "print(\"Initial number of observations: \", data.shape[0])\n",
    "print(\"Final number of observations: \\t\", data_Qb.shape[0])"
   ]
  },
  {
   "cell_type": "markdown",
   "metadata": {},
   "source": [
    "## Question b)"
   ]
  },
  {
   "cell_type": "markdown",
   "metadata": {},
   "source": [
    "### Equally weighted portfolios"
   ]
  },
  {
   "cell_type": "code",
   "execution_count": null,
   "metadata": {},
   "outputs": [],
   "source": [
    "# Create deciles based on Beta value\n",
    "data_Qb[\"EW_monthly_decile\"] = data_Qb.groupby(\"date\")[\"beta\"].transform(lambda x: pd.qcut(x, 10, labels=False, duplicates='drop'))\n",
    "\n",
    "# Compute monthly return per decile group\n",
    "data_Qb[\"EW_monthly_return\"] = data_Qb.groupby([\"date\", \"EW_monthly_decile\"])[\"ret\"].transform(\"mean\")\n",
    "\n",
    "display(data_Qb)#.sample(5)) # to get an overview of the dataframe"
   ]
  },
  {
   "cell_type": "markdown",
   "metadata": {},
   "source": [
    "### Value weighted portfolios"
   ]
  },
  {
   "cell_type": "code",
   "execution_count": null,
   "metadata": {},
   "outputs": [],
   "source": [
    "# Add company market capitalization\n",
    "data_Qb['MktCap'] = np.abs(data_Qb.prc) * data_Qb.shrout\n",
    "\n",
    "# Create monthly deciles based MktCap\n",
    "data_Qb[\"VW_monthly_decile\"] = data_Qb[\"EW_monthly_decile\"] #data_Qb.groupby(\"date\")[\"MktCap\"].transform(lambda x: pd.qcut(x, 10, labels=False, duplicates='drop'))\n",
    "\n",
    "# Compute the total market capitaliztion for each decile, each month\n",
    "data_Qb[\"MktCap_sum\"] = data_Qb.groupby([\"date\", \"VW_monthly_decile\"])[\"MktCap\"].transform(\"sum\")\n",
    "\n",
    "# Create weight of the stock to the decile portofolio, for each month\n",
    "data_Qb[\"VW_monthly_weight\"] = data_Qb[\"MktCap\"] / data_Qb[\"MktCap_sum\"]\n",
    "\n",
    "# Compute each stock's monthly return in the VW portoflio, for each month, decile\n",
    "data_Qb[\"VW_monthly_return\"] = data_Qb[\"ret\"] * data_Qb[\"VW_monthly_weight\"]\n",
    "\n",
    "# Clean the dataframe and delete useless columns: VW_monthly_weight, MktCap_sum\n",
    "data_Qb = data_Qb.drop(columns=[\"MktCap_sum\"])\n",
    "\n",
    "display(data_Qb.head(5)) # to get an overview of the dataframe"
   ]
  },
  {
   "cell_type": "markdown",
   "metadata": {},
   "source": [
    "### Auxiliary functions for plots"
   ]
  },
  {
   "cell_type": "code",
   "execution_count": null,
   "metadata": {},
   "outputs": [],
   "source": [
    "def plot_from_lists(mean, std, sharpe, plot_color = 'blue'):\n",
    "    deciles = list(range(len(mean)))\n",
    "\n",
    "    _, axs = plt.subplots(1, 3, figsize=(25, 7), sharey=False)\n",
    "\n",
    "    axs[0].bar(deciles, mean, color=plot_color)\n",
    "    axs[0].set_title(\"Average portolio mean return\")\n",
    "    axs[0].set_xticks(deciles)\n",
    "    axs[0].set_xlabel(\"Decile\")\n",
    "    axs[0].set_ylabel(\"Annualized return\")\n",
    "\n",
    "    axs[1].bar(deciles, std, color=plot_color)\n",
    "    axs[1].set_title(\"Average portolio annualized standard deviation\")\n",
    "    axs[1].set_xticks(deciles)\n",
    "    axs[1].set_xlabel(\"Decile\")\n",
    "    axs[1].set_ylabel(\"Annualized standard deviation\")\n",
    "\n",
    "    axs[2].bar(deciles, sharpe, color=plot_color)\n",
    "    axs[2].set_title(\"Average portolio annualized sharpe ratio\")\n",
    "    axs[2].set_xticks(deciles)\n",
    "    axs[2].set_xlabel(\"Decile\")\n",
    "    axs[2].set_ylabel(\"Annualized sharpe ratio\")\n",
    "    \n",
    "    return plt"
   ]
  },
  {
   "cell_type": "code",
   "execution_count": null,
   "metadata": {},
   "outputs": [],
   "source": [
    "def get_mean_std_sr_EW(data, decile_col_name, decile_return_col_name):\n",
    "\n",
    "    deciles = list(data[decile_col_name].unique())\n",
    "    deciles.sort()\n",
    "\n",
    "    MEAN, STD, SR = [], [], []\n",
    "\n",
    "    for decile in deciles:\n",
    "        d = data[data[decile_col_name] == decile]#.head(2)\n",
    "        rf = d[\"tmytm\"].mean() * 12\n",
    "        mean = d[decile_return_col_name].mean() * 12\n",
    "        std = d[decile_return_col_name].std() * np.sqrt(12)\n",
    "        sr = (mean - rf) / std\n",
    "        MEAN.append(mean)\n",
    "        STD.append(std)\n",
    "        SR.append(sr)\n",
    "    \n",
    "    return MEAN, STD, SR\n",
    "\n",
    "def get_mean_std_sr_VW(data, decile_col_name, decile_return_col_name):\n",
    "\n",
    "    deciles = list(data[decile_col_name].unique())\n",
    "    deciles.sort()\n",
    "\n",
    "    MEAN, STD, SR = [], [], []\n",
    "\n",
    "    ret_vw = data.groupby(['date', decile_col_name])[decile_return_col_name].sum().reset_index()\n",
    "    \n",
    "    MEAN = ret_vw.groupby(decile_col_name)[decile_return_col_name].mean() * 12\n",
    "    STD =  ret_vw.groupby(decile_col_name)[decile_return_col_name].std() * np.sqrt(12)\n",
    "\n",
    "    for decile in deciles:\n",
    "        d = data[data[decile_col_name] == decile]\n",
    "        rf = d[\"tmytm\"].mean() * 12\n",
    "        mean = MEAN[decile]\n",
    "        std = STD[decile]\n",
    "        sr = (mean - rf) / std\n",
    "        SR.append(sr)\n",
    "    \n",
    "    return MEAN, STD, SR\n",
    "\n",
    "# def plot_mean_std_sr(data, EW = False, VW = False, decile_col='' question = None, plot_name = None, show=True):\n",
    "\n",
    "#     if not os.path.exists(\"Figures\"):\n",
    "#             os.makedirs(\"Figures\")\n",
    "\n",
    "#     if EW and VW:\n",
    "#         raise ValueError(\"You cannot specify both 'EW=True' and 'VW=True'.\")\n",
    "#     elif EW:\n",
    "#         mean, std, sharpe = get_mean_std_sr_EW(data, 'EW_monthly_decile', 'EW_monthly_return')\n",
    "#         plot = plot_from_lists(mean, std, sharpe, plot_color = 'blue')\n",
    "#         plot.suptitle(f'Average portolio annualized mean return, standard deviation and sharpe ratio ({plot_name})')\n",
    "#         plot.savefig(f\"Figures/question_{question}_plot_{plot_name}\")\n",
    "#         if show: \n",
    "#             plot.show()\n",
    "#     elif VW:\n",
    "#         mean, std, sharpe = get_mean_std_sr_VW(data_Qb, 'VW_monthly_decile', 'VW_monthly_return')\n",
    "#         plot = plot_from_lists(mean, std, sharpe, plot_color = 'blue')\n",
    "#         plot.suptitle(f'Average portolio annualized mean return, standard deviation and sharpe ratio ({plot_name})')\n",
    "#         plot.savefig(f\"Figures/question_{question}_plot_{plot_name}\")\n",
    "#         if show: \n",
    "#             plot.show()\n",
    "#     else:\n",
    "#         raise ValueError(\"You need to specify either 'EW=True' or 'VW=True'.\")\n",
    "    \n",
    "\n",
    "def plot_mean_std_sr(data, EW = False, VW = False, EW_decile_col='EW_monthly_decile', EW_return_col = 'EW_monthly_return', VW_decile_col='VW_monthly_decile', VW_return_col = 'VW_monthly_return', question = None, plot_name = None, show=True):\n",
    "\n",
    "    if not os.path.exists(\"Figures\"):\n",
    "            os.makedirs(\"Figures\")\n",
    "\n",
    "    if EW and VW:\n",
    "        raise ValueError(\"You cannot specify both 'EW=True' and 'VW=True'.\")\n",
    "    \n",
    "    elif EW:\n",
    "        mean, std, sharpe = get_mean_std_sr_EW(data, EW_decile_col, EW_return_col)\n",
    "        plot = plot_from_lists(mean, std, sharpe, plot_color = 'blue')\n",
    "        plot.suptitle(f'Average portolio annualized mean return, standard deviation and sharpe ratio ({plot_name})')\n",
    "        plot.savefig(f\"Figures/question_{question}_plot_{plot_name}\")\n",
    "        if show: \n",
    "            plot.show()\n",
    "    \n",
    "    elif VW:\n",
    "        mean, std, sharpe = get_mean_std_sr_VW(data, VW_decile_col, VW_return_col)\n",
    "        plot = plot_from_lists(mean, std, sharpe, plot_color = 'blue')\n",
    "        plot.suptitle(f'Average portolio annualized mean return, standard deviation and sharpe ratio ({plot_name})')\n",
    "        plot.savefig(f\"Figures/question_{question}_plot_{plot_name}\")\n",
    "        if show: \n",
    "            plot.show()\n",
    "    \n",
    "    else:\n",
    "        raise ValueError(\"You need to specify either 'EW=True' or 'VW=True'.\")"
   ]
  },
  {
   "cell_type": "markdown",
   "metadata": {},
   "source": [
    "### Plot the mean returns, volatility, and sharpe ratios for EW and VW portfolios"
   ]
  },
  {
   "cell_type": "code",
   "execution_count": null,
   "metadata": {},
   "outputs": [],
   "source": [
    "plot_mean_std_sr(\n",
    "    data=data_Qb,\n",
    "    EW = True, \n",
    "    EW_decile_col='EW_monthly_decile',\n",
    "    EW_return_col='EW_monthly_return',\n",
    "    VW = False, \n",
    "    question = '3b',\n",
    "    plot_name= 'equal_weight', \n",
    "    show = True\n",
    ")\n",
    "\n",
    "plot_mean_std_sr(\n",
    "    data=data_Qb,\n",
    "    EW = False, \n",
    "    VW = True,\n",
    "    VW_decile_col='VW_monthly_decile',\n",
    "    VW_return_col='VW_monthly_return',\n",
    "    question = '3b',\n",
    "    plot_name= 'value_weight', \n",
    "    show = True\n",
    ")"
   ]
  },
  {
   "cell_type": "markdown",
   "metadata": {},
   "source": [
    "## Question c) and d)"
   ]
  },
  {
   "cell_type": "markdown",
   "metadata": {},
   "source": [
    "### Prepare data for BAB"
   ]
  },
  {
   "cell_type": "code",
   "execution_count": null,
   "metadata": {},
   "outputs": [],
   "source": [
    "data_bab = Data_instance.get_rolling_beta().copy().dropna() # Create a separate dataset for the BAB question\n",
    "data_bab.head()"
   ]
  },
  {
   "cell_type": "markdown",
   "metadata": {},
   "source": [
    "### Built the function for determining BAB weights"
   ]
  },
  {
   "cell_type": "code",
   "execution_count": null,
   "metadata": {},
   "outputs": [],
   "source": [
    "def get_bab_weights(data):\n",
    "    \"\"\"Computes the weights of the Betting-Against-Beta portfolio.\"\"\"\n",
    "    df = data.copy()\n",
    "    df['z'] = df.groupby('date')['beta'].rank()                     # Assign each beta a rank, for each month\n",
    "    df['z_mean'] = df.groupby('date')['z'].transform('mean')        # Calculate the monthly mean the rank\n",
    "    df['norm'] = np.abs(df['z']- df['z_mean'])                      # Compute abs distance of rank to mean rank\n",
    "    df['sum_norm'] = df.groupby('date')['norm'].transform(\"sum\")    # Sum the distance\n",
    "    df['k'] = 2 / df['sum_norm']                                    # Compute the k\n",
    "\n",
    "    # Compute the BAB weights\n",
    "    df['wH'] = df['k'] * np.maximum(0, df['z'] - df['z_mean'])      \n",
    "    df['wL'] = df['k'] * np.minimum(0, df['z'] - df['z_mean'])\n",
    "\n",
    "    # Drop irrelevant columns\n",
    "    df = df.drop(columns=[\"z_mean\", 'z', 'norm', 'sum_norm', 'k'])\n",
    "\n",
    "    # Compute the weighted betas\n",
    "    df['bH'] = df['wH'] * df['beta']\n",
    "    df['bL'] = df['wL'] * df['beta']\n",
    "\n",
    "    # Compute the individual returns of the portfolios H and L\n",
    "    df['rH'] = df['wH'] * df['ret']\n",
    "    df['rL'] = df['wL'] * df['ret']\n",
    "\n",
    "    # Compute the individual excess returns of the portfolios H and L\n",
    "    # df['rHe'] = df['rH'] - df['tmytm']\n",
    "    # df['rLe'] = df['rL'] - df['tmytm']\n",
    "\n",
    "    # Compute the return and betas of the two portfolios for each period\n",
    "    df_ = df.groupby('date')[['rH', 'rL', 'bH', 'bL']].sum().reset_index()                # Get the value for each period\n",
    "    df_rf = df.groupby('date')[['date', 'tmytm', 'Rm_e']].first()[['tmytm','Rm_e']]       # Dataframe for the risk free rate\n",
    "    df_ = pd.merge(df_, df_rf, on = 'date')                                               # Merge the risk-free rate\n",
    "\n",
    "    # Finally create the BAB portfolio return\n",
    "    df_['rBAB'] = (df_['rL'] - df_['tmytm']) / df_['bL'] - (df_['rH'] - df_['tmytm']) / df_['bH']\n",
    "\n",
    "    return df_"
   ]
  },
  {
   "cell_type": "code",
   "execution_count": null,
   "metadata": {},
   "outputs": [],
   "source": [
    "# Create the weights rBAB\n",
    "data_BAB = get_bab_weights(data_bab)\n",
    "display(data_BAB)"
   ]
  },
  {
   "cell_type": "markdown",
   "metadata": {},
   "source": [
    "### Get the return, std and sharpe ratio of the BAB strategy"
   ]
  },
  {
   "cell_type": "code",
   "execution_count": null,
   "metadata": {},
   "outputs": [],
   "source": [
    "BAB_ret = data_BAB.rBAB.mean() * 12\n",
    "BAB_std = data_BAB.rBAB.std() * np.sqrt(12)\n",
    "BAB_rfr = data_BAB.tmytm.mean() * 12\n",
    "BAB_shr = (BAB_ret - BAB_rfr) / BAB_std\n",
    "\n",
    "# Compute the CAPM alpha\n",
    "data_BAB['one'] = 1 # Create the column for the constant\n",
    "model = sm.OLS(data_BAB['rBAB'], data_BAB[['one', 'Rm_e']]).fit() # Fit CAPM\n",
    "\n",
    "print(\"Betting-against-beta strategy\")\n",
    "print(\" - Mean return: {:.2f}%\".format(BAB_ret * 100))\n",
    "print(\" - Standard deviation: {:.2f}%\".format(BAB_std * 100))\n",
    "print(\" - Sharpe ratio: {:.2f}\".format(BAB_shr))\n",
    "print(\" - CAPM alpha: {:.2f}\".format(model.params.iloc[0] * 12))\n"
   ]
  },
  {
   "cell_type": "markdown",
   "metadata": {},
   "source": [
    "# 4 Momentum Strategy"
   ]
  },
  {
   "cell_type": "markdown",
   "metadata": {},
   "source": [
    "## Question a)"
   ]
  },
  {
   "cell_type": "markdown",
   "metadata": {},
   "source": [
    "### Create the deciles based on the 12-month cumulative return, excluding short term reversal"
   ]
  },
  {
   "cell_type": "code",
   "execution_count": null,
   "metadata": {},
   "outputs": [],
   "source": [
    "display(data.head())"
   ]
  },
  {
   "cell_type": "code",
   "execution_count": null,
   "metadata": {},
   "outputs": [],
   "source": [
    "data.sort_values(by=['permno', 'date'], inplace=True)\n",
    "display(data.head())"
   ]
  },
  {
   "cell_type": "code",
   "execution_count": null,
   "metadata": {},
   "outputs": [],
   "source": [
    "# Sort data by permno, then date\n",
    "data_mom = data.copy()\n",
    "data_mom.sort_values(by=['permno', 'date'], inplace=True)\n",
    "\n",
    "# Add a column for momentum return (last 12months, excluding last month)\n",
    "data_mom['roll_ret'] = data_mom.groupby('permno').ret.transform(lambda x: x.rolling(11, closed='left').sum())\n",
    "display(data_mom.head())"
   ]
  },
  {
   "cell_type": "code",
   "execution_count": null,
   "metadata": {},
   "outputs": [],
   "source": [
    "# Create deciles for the momentum returns\n",
    "data_mom['decile_mom'] = data_mom.groupby('date')['roll_ret'].transform(lambda x: pd.qcut(x, 10, labels=False, duplicates='drop'))\n",
    "display(data_mom.head())\n",
    "data_mom.to_csv('data_mom.csv')"
   ]
  },
  {
   "cell_type": "markdown",
   "metadata": {},
   "source": [
    "### Equally weighted portfolios"
   ]
  },
  {
   "cell_type": "code",
   "execution_count": null,
   "metadata": {},
   "outputs": [],
   "source": [
    "# Compute the monthly return for each decile (this is the average of the individual monthly return of each stock from each decile)\n",
    "data_mom['EW_monthly_return'] = data_mom.groupby(['date', 'decile_mom'])['ret'].transform('mean')\n",
    "\n",
    "data_mom.dropna(axis = 0, inplace=True)\n",
    "data_mom.sort_values(by=['date', 'decile_mom'], inplace=True)\n",
    "display(data_mom.head(5))\n",
    "\n",
    "# # Based on data_mom, only keep one observation per decile per month\n",
    "# data_mom_clean = data_mom.groupby(['date', 'decile_mom', 'EW_monthly_return', 'tmytm']).first().reset_index()\n",
    "# data_mom_clean = data_mom_clean[['date', 'decile_mom', 'EW_monthly_return', 'tmytm']]\n",
    "# display(data_mom_clean.sample(5)) # get overview of a random sample of 5 observations of the dataframe"
   ]
  },
  {
   "cell_type": "markdown",
   "metadata": {},
   "source": [
    "### Value weighted portfolios"
   ]
  },
  {
   "cell_type": "code",
   "execution_count": null,
   "metadata": {},
   "outputs": [],
   "source": [
    "# Add company market capitalization\n",
    "data_mom['MktCap'] = np.abs(data_mom.prc) * data_mom.shrout\n",
    "\n",
    "# Compute the total market capitaliztion for each decile, each month\n",
    "data_mom[\"MktCap_sum\"] = data_mom.groupby([\"date\", \"decile_mom\"])[\"MktCap\"].transform(\"sum\")\n",
    "\n",
    "# Create weight of the stock to the decile portofolio, for each month\n",
    "data_mom[\"VW_monthly_weight\"] = data_mom[\"MktCap\"] / data_mom[\"MktCap_sum\"]\n",
    "\n",
    "# Compute each stock's monthly return in the VW portoflio, for each month, decile\n",
    "data_mom[\"VW_monthly_return\"] = data_mom[\"ret\"] * data_mom[\"VW_monthly_weight\"]\n",
    "\n",
    "# Clean the dataframe and delete useless columns: MktCap_sum\n",
    "data_mom = data_mom.drop(columns=[\"MktCap_sum\"])\n",
    "\n",
    "display(data_mom) # to get an overview of the dataframe"
   ]
  },
  {
   "cell_type": "markdown",
   "metadata": {},
   "source": [
    "### Plotting the graphs"
   ]
  },
  {
   "cell_type": "code",
   "execution_count": null,
   "metadata": {},
   "outputs": [],
   "source": [
    "# Plot the mean, std and sharpe ratio for the momentum decile EW portfolios\n",
    "plot_mean_std_sr(\n",
    "    data=data_mom,\n",
    "    EW = True,\n",
    "    EW_decile_col='decile_mom',\n",
    "    EW_return_col='EW_monthly_return',\n",
    "    VW = False, \n",
    "    question = '4a',\n",
    "    plot_name= 'momentum_equal_weight', \n",
    "    show = True\n",
    ")\n",
    "\n",
    "# Plot the mean, std and sharpe ratio for the momentum decile VW portfolios\n",
    "plot_mean_std_sr(\n",
    "    data = data_mom,\n",
    "    EW = False,\n",
    "    VW = True, \n",
    "    VW_decile_col='decile_mom',\n",
    "    VW_return_col='VW_monthly_return',\n",
    "    question = '4a',\n",
    "    plot_name= 'momentum_value_weight', \n",
    "    show = True\n",
    ")"
   ]
  },
  {
   "cell_type": "markdown",
   "metadata": {},
   "source": [
    "## Question b)"
   ]
  },
  {
   "cell_type": "markdown",
   "metadata": {},
   "source": [
    "### Prepare data"
   ]
  },
  {
   "cell_type": "code",
   "execution_count": null,
   "metadata": {},
   "outputs": [],
   "source": [
    "# Create a column 'leg' that is 1 if the decile is 7, 8 or 9, and -1 if decile is 0, 1, 2\n",
    "data_mom['leg'] = np.nan\n",
    "data_mom.loc[data_mom['decile_mom'] <= 2, 'leg'] = -1\n",
    "data_mom.loc[data_mom['decile_mom'] >= 7, 'leg'] = 1\n",
    "\n",
    "# Drop the observations that are in none of the legs\n",
    "data_mom_b = data_mom.dropna().copy()\n",
    "data_mom_b.drop(columns=['EW_monthly_return', 'VW_monthly_weight', 'VW_monthly_return'], inplace=True) # Drop the irrelevant columns\n",
    "display(data_mom_b)"
   ]
  },
  {
   "cell_type": "markdown",
   "metadata": {},
   "source": [
    "### Equally weighted portfolios"
   ]
  },
  {
   "cell_type": "code",
   "execution_count": null,
   "metadata": {},
   "outputs": [],
   "source": [
    "# Create a dataframe that aggregates takes the average return for each leg, at each month. Also keep the risk free rate\n",
    "EW_data_mom = data_mom_b.groupby(['date', 'leg']).agg({\n",
    "    'ret': 'mean', \n",
    "    'tmytm': 'first',\n",
    "    }).reset_index()\n",
    "\n",
    "EW_data_mom_piv = EW_data_mom.pivot(index='date', columns='leg', values='ret') # Pivot the data\n",
    "EW_data_mom_piv['EW_return'] = EW_data_mom_piv[1] - EW_data_mom_piv[-1] # Compute the return of the EW momentum strategy as being the difference between the two legs\n",
    "EW_data_mom_piv['tmytm'] = EW_data_mom.groupby('date')['tmytm'].first() # Add the risk free rate\n",
    "EW_data_mom_piv = EW_data_mom_piv[['EW_return', 'tmytm']]   # Keep only the relevant columns\n",
    "# display(EW_data_mom_piv)\n",
    "\n",
    "# Compute mean, std and Sharpe ratio\n",
    "mean = EW_data_mom_piv['EW_return'].mean() * 12\n",
    "std = EW_data_mom_piv['EW_return'].std() * np.sqrt(12)\n",
    "rf = EW_data_mom_piv['tmytm'].mean() * 12\n",
    "\n",
    "# Dispay the results\n",
    "print(\"Momentum strategy based on equally weighted portfolios\")\n",
    "print(\" - Expected return:\\t {:.2f}%\".format(mean))\n",
    "print(\" - Standard deviation:\\t {:.2f}%\".format(std))\n",
    "print(\" - Sharpe ratio:\\t {:.2f}\".format((mean - rf)/ std))"
   ]
  },
  {
   "cell_type": "markdown",
   "metadata": {
    "vscode": {
     "languageId": "html"
    }
   },
   "source": [
    "###  Value weighted portfolios"
   ]
  },
  {
   "cell_type": "code",
   "execution_count": null,
   "metadata": {},
   "outputs": [],
   "source": [
    "VW_data_mom = data_mom_b.copy()\n",
    "\n",
    "VW_data_mom['VW_wL'] = (VW_data_mom['leg'] == -1) * VW_data_mom['MktCap']\n",
    "VW_data_mom['VW_wL_sum'] = VW_data_mom.groupby('date')['VW_wL'].transform('sum')\n",
    "VW_data_mom['VW_wH'] = (VW_data_mom['leg'] == 1) * VW_data_mom['MktCap']\n",
    "VW_data_mom['VW_wH_sum'] = VW_data_mom.groupby('date')['VW_wH'].transform('sum')\n",
    "VW_data_mom['VW_wL'] = VW_data_mom['VW_wL'] / VW_data_mom['VW_wL_sum']\n",
    "VW_data_mom['VW_wH'] = VW_data_mom['VW_wH'] / VW_data_mom['VW_wH_sum']\n",
    "VW_data_mom = VW_data_mom.drop(columns=['VW_wL_sum', 'VW_wH_sum'])\n",
    "VW_data_mom['VW_w'] = VW_data_mom['VW_wL'] * VW_data_mom['leg'] + VW_data_mom['VW_wH'] * VW_data_mom['leg']\n",
    "VW_data_mom['VW_ret'] = VW_data_mom['VW_w'] * VW_data_mom['ret']\n",
    "\n",
    "\n",
    "# Create a dataframe that aggregates the returns, at each month and keep the risk free rate\n",
    "VW_data_mom_ = VW_data_mom.groupby(['date']).agg({\n",
    "    'VW_ret': 'sum', \n",
    "    'tmytm': 'first',\n",
    "    }).reset_index()\n",
    "\n",
    "display(VW_data_mom_)\n",
    "\n",
    "# Compute mean, std and Sharpe ratio\n",
    "mean = VW_data_mom_['VW_ret'].mean() * 12\n",
    "std = VW_data_mom_['VW_ret'].std() * np.sqrt(12)\n",
    "rf = VW_data_mom_['tmytm'].mean() * 12\n",
    "\n",
    "# Dispay the results\n",
    "print(\"Momentum strategy based on equally weighted portfolios\")\n",
    "print(\" - Expected return:\\t {:.2f}%\".format(mean))\n",
    "print(\" - Standard deviation:\\t {:.2f}%\".format(std))\n",
    "print(\" - Sharpe ratio:\\t {:.2f}\".format((mean - rf)/ std))"
   ]
  }
 ],
 "metadata": {
  "kernelspec": {
   "display_name": "base",
   "language": "python",
   "name": "python3"
  },
  "language_info": {
   "codemirror_mode": {
    "name": "ipython",
    "version": 3
   },
   "file_extension": ".py",
   "mimetype": "text/x-python",
   "name": "python",
   "nbconvert_exporter": "python",
   "pygments_lexer": "ipython3",
   "version": "3.12.3"
  }
 },
 "nbformat": 4,
 "nbformat_minor": 2
}
