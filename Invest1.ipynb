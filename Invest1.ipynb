{
 "cells": [
  {
   "cell_type": "code",
   "execution_count": 4,
   "metadata": {},
   "outputs": [
    {
     "name": "stdout",
     "output_type": "stream",
     "text": [
      "The autoreload extension is already loaded. To reload it, use:\n",
      "  %reload_ext autoreload\n"
     ]
    }
   ],
   "source": [
    "%load_ext autoreload\n",
    "%autoreload 2"
   ]
  },
  {
   "cell_type": "markdown",
   "metadata": {},
   "source": [
    "## Idiosyncratic Volatility Strategy (IV)"
   ]
  },
  {
   "cell_type": "markdown",
   "metadata": {},
   "source": [
    "### Part a)"
   ]
  },
  {
   "cell_type": "code",
   "execution_count": 5,
   "metadata": {},
   "outputs": [
    {
     "name": "stdout",
     "output_type": "stream",
     "text": [
      "    permno        date       ret  shrout      prc  siccd     tmytm    vwretd\n",
      "94   10001  2009-12-31  0.162621  4361.0  10.3000   4925  0.000032  0.028475\n",
      "93   10001  2010-01-29 -0.018932  4361.0  10.0600   4925  0.000013 -0.037172\n",
      "92   10001  2010-02-26 -0.000656  4361.0  10.0084   4925  0.000061  0.034744\n",
      "91   10001  2010-03-31  0.020643  4361.0  10.1700   4925  0.000112  0.063668\n",
      "90   10001  2010-04-30  0.124385  6070.0  11.3900   4925  0.000118  0.020036\n"
     ]
    }
   ],
   "source": [
    "import pandas as pd\n",
    "import numpy as np\n",
    "import statsmodels.api as sm\n",
    "\n",
    "# Import the data, specifying the index column if applicable\n",
    "data = pd.read_csv(\"/Users/eperazz2/Desktop/EPFL/Cours Semestre 2/Investments/Project/Data/data.csv\", index_col=0)\n",
    "\n",
    "# Display the first few rows to verify\n",
    "data.sort_values(by=['permno','date'],inplace=True)\n",
    "data.groupby('date').first().sort_values(by='date')\n",
    "print(data.head())"
   ]
  },
  {
   "cell_type": "markdown",
   "metadata": {},
   "source": [
    "#### Calculate excess returns"
   ]
  },
  {
   "cell_type": "code",
   "execution_count": 6,
   "metadata": {},
   "outputs": [],
   "source": [
    "# Calculate excess returns:\n",
    "# ['tmytm'] is the column representing the risk-free rate\n",
    "data['excess_ret'] = data['ret'] - data['tmytm']\n",
    "data['excess_market_ret'] = data['vwretd'] - data['tmytm']"
   ]
  },
  {
   "cell_type": "markdown",
   "metadata": {},
   "source": [
    "##### Regression for IV"
   ]
  },
  {
   "cell_type": "code",
   "execution_count": 7,
   "metadata": {},
   "outputs": [],
   "source": [
    "# Drop nan values\n",
    "data = data.dropna().copy()"
   ]
  },
  {
   "cell_type": "code",
   "execution_count": 8,
   "metadata": {},
   "outputs": [
    {
     "name": "stderr",
     "output_type": "stream",
     "text": [
      "/var/folders/mm/gtq67xxs28b__g9m9949jrm00000gn/T/ipykernel_49820/1875172710.py:28: DeprecationWarning: DataFrameGroupBy.apply operated on the grouping columns. This behavior is deprecated, and in a future version of pandas the grouping columns will be excluded from the operation. Either pass `include_groups=False` to exclude the groupings or explicitly select the grouping columns after groupby to silence this warning.\n",
      "  data['idiosyncratic_volatility'] = data.groupby('permno').apply(calculate_idiosyncratic_volatility).reset_index(level=0, drop=True)\n"
     ]
    },
    {
     "name": "stdout",
     "output_type": "stream",
     "text": [
      "         permno        date  idiosyncratic_volatility\n",
      "127       10001  2014-11-28                  0.063269\n",
      "126       10001  2014-12-31                  0.060464\n",
      "125       10001  2015-01-30                  0.062201\n",
      "124       10001  2015-02-27                  0.062240\n",
      "123       10001  2015-03-31                  0.062239\n",
      "...         ...         ...                       ...\n",
      "1438321   93426  2023-08-31                  0.061566\n",
      "1438320   93426  2023-09-29                  0.059316\n",
      "1438319   93426  2023-10-31                  0.059753\n",
      "1438318   93426  2023-11-30                  0.060708\n",
      "1438317   93426  2023-12-29                  0.061170\n",
      "\n",
      "[980533 rows x 3 columns]\n"
     ]
    }
   ],
   "source": [
    "# Filter stocks with at least 36 months of data\n",
    "data['num_months'] = data.groupby('permno')['date'].transform('count')\n",
    "data = data[data['num_months'] >= 36].copy()\n",
    "\n",
    "# Rolling window size\n",
    "window = 5 * 12  # 5 years * 12 months\n",
    "\n",
    "# Calculate idiosyncratic volatility for each stock using a rolling window approach\n",
    "def calculate_idiosyncratic_volatility(group):\n",
    "    if len(group) < window:\n",
    "        return pd.Series([np.nan] * len(group), index=group.index)\n",
    "    \n",
    "    residuals = pd.Series(index=group.index)\n",
    "    \n",
    "    # iterate over each stock (permno group), sliding a window of 5 years (60 months) across the data\n",
    "    for i in range(len(group) - window + 1):\n",
    "        window_data = group.iloc[i:i+window]\n",
    "        excess_returns_window = window_data['excess_ret']\n",
    "        market_excess_returns_window = sm.add_constant(window_data['excess_market_ret'])\n",
    "        \n",
    "        # Regress excess_ret against excess_market_ret with OLS to estimate the residuals' standard deviation \n",
    "        model = sm.OLS(excess_returns_window, market_excess_returns_window)\n",
    "        results = model.fit()\n",
    "        \n",
    "        residuals.iloc[i + window - 1] = np.std(results.resid)\n",
    "    \n",
    "    return residuals\n",
    "\n",
    "# Apply the function to each stock\n",
    "data['idiosyncratic_volatility'] = data.groupby('permno').apply(calculate_idiosyncratic_volatility).reset_index(level=0, drop=True)\n",
    "\n",
    "# Remove rows where idiosyncratic volatility could not be computed\n",
    "data = data.dropna(subset=['idiosyncratic_volatility']).copy()\n",
    "\n",
    "# Output the data with the new idiosyncratic volatility column\n",
    "print(data[['permno', 'date', 'idiosyncratic_volatility']])\n",
    "\n",
    "# Save \n",
    "data.to_csv(\"/Users/eperazz2/Desktop/data_with_volatility.csv\", index=False)"
   ]
  },
  {
   "cell_type": "markdown",
   "metadata": {},
   "source": [
    "##### Winsorize at 5th and 95th percentiles"
   ]
  },
  {
   "cell_type": "code",
   "execution_count": 9,
   "metadata": {},
   "outputs": [
    {
     "name": "stderr",
     "output_type": "stream",
     "text": [
      "/var/folders/mm/gtq67xxs28b__g9m9949jrm00000gn/T/ipykernel_49820/2280716005.py:2: DeprecationWarning: DataFrameGroupBy.apply operated on the grouping columns. This behavior is deprecated, and in a future version of pandas the grouping columns will be excluded from the operation. Either pass `include_groups=False` to exclude the groupings or explicitly select the grouping columns after groupby to silence this warning.\n",
      "  data['idiosyncratic_volatility'] = data.groupby('permno').apply(calculate_idiosyncratic_volatility).reset_index(level=0, drop=True)\n"
     ]
    },
    {
     "name": "stdout",
     "output_type": "stream",
     "text": [
      "         permno        date  idiosyncratic_volatility\n",
      "353       10006  1973-12-31                  0.080622\n",
      "352       10006  1974-01-31                  0.080504\n",
      "351       10006  1974-02-28                  0.080328\n",
      "350       10006  1974-03-29                  0.080332\n",
      "349       10006  1974-04-30                  0.077265\n",
      "...         ...         ...                       ...\n",
      "1438321   93426  2023-08-31                  0.061566\n",
      "1438320   93426  2023-09-29                  0.059316\n",
      "1438319   93426  2023-10-31                  0.059753\n",
      "1438318   93426  2023-11-30                  0.060708\n",
      "1438317   93426  2023-12-29                  0.061170\n",
      "\n",
      "[687609 rows x 3 columns]\n"
     ]
    }
   ],
   "source": [
    "# Apply the function to each stock\n",
    "data['idiosyncratic_volatility'] = data.groupby('permno').apply(calculate_idiosyncratic_volatility).reset_index(level=0, drop=True)\n",
    "\n",
    "# Remove rows where idiosyncratic volatility could not be computed\n",
    "data = data.dropna(subset=['idiosyncratic_volatility']).copy()\n",
    "\n",
    "# Winsorize the idiosyncratic volatility\n",
    "idiosyncratic_volatility = data['idiosyncratic_volatility'].values\n",
    "idio_vol_5th_percentile = np.percentile(idiosyncratic_volatility, 5)\n",
    "idio_vol_95th_percentile = np.percentile(idiosyncratic_volatility, 95)\n",
    "idiosyncratic_volatility_winsorized = np.clip(idiosyncratic_volatility, idio_vol_5th_percentile, idio_vol_95th_percentile)\n",
    "\n",
    "# Assign the winsorized idiosyncratic volatility back to the DataFrame\n",
    "data['idiosyncratic_volatility'] = idiosyncratic_volatility_winsorized\n",
    "\n",
    "# Output the DataFrame with idiosyncratic volatility estimates\n",
    "print(data[['permno', 'date', 'idiosyncratic_volatility']])\n",
    "\n",
    "# Save the output data if needed\n",
    "data.to_csv(\"/Users/eperazz2/Desktop/data_with_volatility.csv\", index=False)"
   ]
  },
  {
   "cell_type": "markdown",
   "metadata": {},
   "source": [
    "### Part b)"
   ]
  }
 ],
 "metadata": {
  "kernelspec": {
   "display_name": "Python 3",
   "language": "python",
   "name": "python3"
  },
  "language_info": {
   "codemirror_mode": {
    "name": "ipython",
    "version": 3
   },
   "file_extension": ".py",
   "mimetype": "text/x-python",
   "name": "python",
   "nbconvert_exporter": "python",
   "pygments_lexer": "ipython3",
   "version": "3.12.2"
  }
 },
 "nbformat": 4,
 "nbformat_minor": 2
}
